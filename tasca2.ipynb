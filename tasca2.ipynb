{
 "metadata": {
  "language_info": {
   "codemirror_mode": {
    "name": "ipython",
    "version": 3
   },
   "file_extension": ".py",
   "mimetype": "text/x-python",
   "name": "python",
   "nbconvert_exporter": "python",
   "pygments_lexer": "ipython3",
   "version": "3.8.5-final"
  },
  "orig_nbformat": 2,
  "kernelspec": {
   "name": "python385jvsc74a57bd06345758e5d736e732c2a7feeb6de508c9984c306a9009e8a74375b042c9b7f5c",
   "display_name": "Python 3.8.5 64-bit (conda)"
  }
 },
 "nbformat": 4,
 "nbformat_minor": 2,
 "cells": [
  {
   "source": [
    "# IT Academy - Data Science amb Python\n",
    "## Tasca 2: Estructura de dades"
   ],
   "cell_type": "markdown",
   "metadata": {}
  },
  {
   "source": [
    "### Exercici 1"
   ],
   "cell_type": "markdown",
   "metadata": {}
  },
  {
   "cell_type": "code",
   "execution_count": 1,
   "metadata": {},
   "outputs": [
    {
     "output_type": "stream",
     "name": "stdout",
     "text": [
      "[['Gener', 'Febrer', 'Març'], ['Abril', 'Maig', 'Juny'], ['Juliol', 'Agost', 'Setembre'], ['Octobre', 'Novembre', 'Desembre']]\n"
     ]
    }
   ],
   "source": [
    "t1 = [\"Gener\", \"Febrer\", \"Març\"]\n",
    "t2 = [\"Abril\", \"Maig\", \"Juny\"]\n",
    "t3 = [\"Juliol\", \"Agost\", \"Setembre\"]\n",
    "t4 = [\"Octobre\", \"Novembre\", \"Desembre\"]\n",
    "\n",
    "mesos = [t1, t2, t3, t4]\n",
    "print(mesos)"
   ]
  },
  {
   "source": [
    "### Exercici 2"
   ],
   "cell_type": "markdown",
   "metadata": {}
  },
  {
   "cell_type": "code",
   "execution_count": 2,
   "metadata": {},
   "outputs": [
    {
     "output_type": "stream",
     "name": "stdout",
     "text": [
      "Febrer\n['Gener', 'Febrer', 'Març']\nSetembre Octobre\n"
     ]
    }
   ],
   "source": [
    "print(t1[1])\n",
    "print(t1)\n",
    "print(t3[2], t4[0])\n"
   ]
  },
  {
   "source": [
    "### Exercici 3"
   ],
   "cell_type": "markdown",
   "metadata": {}
  },
  {
   "cell_type": "code",
   "execution_count": 3,
   "metadata": {},
   "outputs": [
    {
     "output_type": "stream",
     "name": "stdout",
     "text": [
      "[2, 26, 7, 16, 20, 15, 14, 26, 9, 20, 23, 3, 11, 16, 29, 8, 12, 12, 3, 28, 24, 29, 3, 18, 5]\n"
     ]
    }
   ],
   "source": [
    "import random\n",
    "randomlist = []\n",
    "for i in range(25):\n",
    "    n = random.randint(1,30)\n",
    "    randomlist.append(n)\n",
    "print(randomlist)"
   ]
  },
  {
   "cell_type": "code",
   "execution_count": 4,
   "metadata": {},
   "outputs": [
    {
     "output_type": "stream",
     "name": "stdout",
     "text": [
      "A aquesta llista hi han 25 elements.\n"
     ]
    }
   ],
   "source": [
    "print(\"A aquesta llista hi han %d elements.\" % len(randomlist))"
   ]
  },
  {
   "cell_type": "code",
   "execution_count": 5,
   "metadata": {},
   "outputs": [
    {
     "output_type": "stream",
     "name": "stdout",
     "text": [
      "El número 3 apareix 3 vegades.\n"
     ]
    }
   ],
   "source": [
    "print(\"El número 3 apareix %d vegades.\" % randomlist.count(3))"
   ]
  },
  {
   "cell_type": "code",
   "execution_count": 6,
   "metadata": {},
   "outputs": [
    {
     "output_type": "stream",
     "name": "stdout",
     "text": [
      "Conjuntament, els números 3 i 4 apareixen un total de 3 vegades.\n"
     ]
    }
   ],
   "source": [
    "print(\"Conjuntament, els números 3 i 4 apareixen un total de %d vegades.\" % (randomlist.count(3) + randomlist.count(4)))"
   ]
  },
  {
   "cell_type": "code",
   "execution_count": 7,
   "metadata": {},
   "outputs": [
    {
     "output_type": "stream",
     "name": "stdout",
     "text": [
      "El número més gran és el 29.\n"
     ]
    }
   ],
   "source": [
    "print(\"El número més gran és el %d.\" % max(randomlist))"
   ]
  },
  {
   "cell_type": "code",
   "execution_count": 8,
   "metadata": {},
   "outputs": [
    {
     "output_type": "stream",
     "name": "stdout",
     "text": [
      "Els tres números més petits son [2, 3, 3]\n"
     ]
    }
   ],
   "source": [
    "orderedlist = randomlist[:]\n",
    "orderedlist.sort()\n",
    "print(\"Els tres números més petits son %s\" % str(orderedlist[:3]))"
   ]
  },
  {
   "cell_type": "code",
   "execution_count": 9,
   "metadata": {},
   "outputs": [
    {
     "output_type": "stream",
     "name": "stdout",
     "text": [
      "El rang d'aquesta llista és 2-29.\n"
     ]
    }
   ],
   "source": [
    "print(\"El rang d'aquesta llista és %d-%d.\" % (orderedlist[0], orderedlist[-1]))"
   ]
  },
  {
   "source": [
    "#### Exercici 4"
   ],
   "cell_type": "markdown",
   "metadata": {}
  },
  {
   "cell_type": "code",
   "execution_count": 10,
   "metadata": {},
   "outputs": [],
   "source": [
    "compra = {\"Pomes\" : {\"Qty\": 5, \"€\": 0.42}, \"Peres\" : {\"Qty\": 3, \"€\": 0.66}}"
   ]
  },
  {
   "cell_type": "code",
   "execution_count": 11,
   "metadata": {},
   "outputs": [
    {
     "output_type": "stream",
     "name": "stdout",
     "text": [
      "{'Pomes': {'Qty': 5, '€': 0.42}, 'Peres': {'Qty': 3, '€': 0.66}, 'Taronges': {'Qty': 7, '€': 0.35}}\n"
     ]
    }
   ],
   "source": [
    "# Afegim set taronges (0.35€/u) a la compra\n",
    "taronges = {\"Taronges\": {\"Qty\": 7, \"€\": 0.35}}\n",
    "compra.update(taronges)\n",
    "print(compra)"
   ]
  },
  {
   "cell_type": "code",
   "execution_count": 22,
   "metadata": {},
   "outputs": [
    {
     "output_type": "stream",
     "name": "stdout",
     "text": [
      "El preu total de les peres és de 1.98\n"
     ]
    }
   ],
   "source": [
    "def preuConjunt(item):\n",
    "    return round(compra[item]['Qty'] * compra[item]['€'], 2)\n",
    "\n",
    "print(\"El preu total de les peres és de %.2f\" % preuConjunt(\"Peres\"))\n"
   ]
  },
  {
   "cell_type": "code",
   "execution_count": 13,
   "metadata": {},
   "outputs": [
    {
     "output_type": "stream",
     "name": "stdout",
     "text": [
      "S'han comprat 3 tipus de fruita:\n- Pomes\n- Peres\n- Taronges\n"
     ]
    }
   ],
   "source": [
    "# Fruites total\n",
    "print(\"S'han comprat %s tipus de fruita:\" % len(compra))\n",
    "for x in compra.keys():\n",
    "    print(\"- \" + x)"
   ]
  },
  {
   "cell_type": "code",
   "execution_count": 83,
   "metadata": {},
   "outputs": [
    {
     "output_type": "stream",
     "name": "stdout",
     "text": [
      "Fruita més cara: Peres (preu, 0.66 €)\n"
     ]
    }
   ],
   "source": [
    "def itemMesCar(compra): \n",
    "    preus = []\n",
    "    for i in compra.keys():\n",
    "        preus.append(compra[i][\"€\"])\n",
    "\n",
    "    for key, value in list(compra.items()):\n",
    "        if value[\"€\"] == max(preus):\n",
    "            return key, value[\"€\"]\n",
    "\n",
    "print(\"Fruita més cara: %s (preu, %.2f €)\" % itemMesCar(compra))"
   ]
  }
 ]
}